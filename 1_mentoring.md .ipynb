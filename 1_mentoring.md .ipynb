{
 "cells": [
  {
   "cell_type": "markdown",
   "id": "851e0d3a",
   "metadata": {},
   "source": [
    "# DOT PRODUCT IN NUMPY"
   ]
  },
  {
   "cell_type": "markdown",
   "id": "c83370f1",
   "metadata": {},
   "source": [
    "Specifically, there are two rules to consider in dot product in python:\n",
    "#### 1. If both vector “A” and vector “B” are 1-dimensional arrays, it is an inner product of vector (without complex conjugation).\n",
    "#### 2. If both vector “A” and vector “B” are 2-dimensional arrays, it is a matrix multiplication.\n",
    "You can only multiply two matrices if the number of columns of the first matrix is equal to the number of rows of the second matrix.\n",
    "\n",
    "\n"
   ]
  },
  {
   "cell_type": "markdown",
   "id": "9a1e44de",
   "metadata": {},
   "source": [
    "# Matrix product is calculated manually"
   ]
  },
  {
   "cell_type": "code",
   "execution_count": 2,
   "id": "1617f914",
   "metadata": {},
   "outputs": [],
   "source": [
    "# We can then go ahead and multiply 2 matrices, here is an example of a 1*1 matrix “A” multiply with 1*1 matrix “B”.\n",
    "# That is: A * B = C\n"
   ]
  },
  {
   "cell_type": "markdown",
   "id": "01619550",
   "metadata": {},
   "source": [
    " **Question**\n",
    "\n",
    "$$ A = \\begin{bmatrix}-1\\\\ 2\\\\ 3 \\end{bmatrix} B = \\begin{bmatrix}0 \\\\ 2 \\\\ 1 \\end{bmatrix}=7 $$\n",
    "\n",
    "**SOLUTION**\n",
    "\n",
    "**STEP 1:**\n",
    "$$ \\begin{bmatrix}(-1*0)+(2*2)+(3*1) \\end{bmatrix} $$\n",
    "\n",
    "\n",
    "**STEP 2:**\n",
    "$$\n",
    "\\begin{bmatrix}0+4+3\\end{bmatrix} $$\n",
    "\n",
    "**FINAL ANSWER**\n",
    "\n",
    "$$\n",
    "\\begin{bmatrix}7\\end{bmatrix} $$\n"
   ]
  },
  {
   "cell_type": "code",
   "execution_count": 4,
   "id": "89efe168",
   "metadata": {},
   "outputs": [],
   "source": [
    "# Firstly, import the Numpy package in your workspace and then create a 2D matrix as discussed in \n",
    "# the example above or any other matrix structure you want to try it out with. Then create a vector \n",
    "# ensuring the number of rows being equal to the number of columns in the matrix.\n",
    "# You can then use the “dot()” method in the matrix and vector. It will return the result vector for you as shown.\n",
    "# You can check out the entire notebook and play around with the code using.\n",
    "# Let’s code them using Numpy:\n"
   ]
  },
  {
   "cell_type": "code",
   "execution_count": 5,
   "id": "ca583e5c",
   "metadata": {},
   "outputs": [],
   "source": [
    "import numpy as np\n",
    "# we are importing the library\n"
   ]
  },
  {
   "cell_type": "code",
   "execution_count": 6,
   "id": "fad1bb9e",
   "metadata": {},
   "outputs": [],
   "source": [
    "a = np. array ([[-1, 2, 3]])\n",
    "b = np. array([[-0, 2, 1]])\n",
    "# we are using vector “a” and vector “b”"
   ]
  },
  {
   "cell_type": "code",
   "execution_count": 7,
   "id": "f0adf819",
   "metadata": {},
   "outputs": [
    {
     "name": "stdout",
     "output_type": "stream",
     "text": [
      "[[-1  2  3]]\n"
     ]
    }
   ],
   "source": [
    "print(a)"
   ]
  },
  {
   "cell_type": "code",
   "execution_count": 8,
   "id": "3c41961a",
   "metadata": {},
   "outputs": [
    {
     "name": "stdout",
     "output_type": "stream",
     "text": [
      "[[0 2 1]]\n"
     ]
    }
   ],
   "source": [
    "print(b)"
   ]
  },
  {
   "cell_type": "code",
   "execution_count": 9,
   "id": "6c79c0dd",
   "metadata": {},
   "outputs": [
    {
     "data": {
      "text/plain": [
       "array([[7]])"
      ]
     },
     "execution_count": 9,
     "metadata": {},
     "output_type": "execute_result"
    }
   ],
   "source": [
    "np.inner(a, b)\n",
    "# we are finding the inner product"
   ]
  },
  {
   "cell_type": "markdown",
   "id": "59d5c315",
   "metadata": {},
   "source": [
    "# And additional work"
   ]
  },
  {
   "cell_type": "code",
   "execution_count": 10,
   "id": "ba239359",
   "metadata": {},
   "outputs": [],
   "source": [
    "import numpy as np"
   ]
  },
  {
   "cell_type": "code",
   "execution_count": 16,
   "id": "8b1b6474",
   "metadata": {},
   "outputs": [],
   "source": [
    "A = np.array([1,2])\n",
    "B = np.array([3,4])"
   ]
  },
  {
   "cell_type": "code",
   "execution_count": 12,
   "id": "00d8b65a",
   "metadata": {},
   "outputs": [
    {
     "name": "stdout",
     "output_type": "stream",
     "text": [
      "[1 2]\n"
     ]
    }
   ],
   "source": [
    "print(A)"
   ]
  },
  {
   "cell_type": "code",
   "execution_count": 13,
   "id": "e1300a87",
   "metadata": {},
   "outputs": [
    {
     "name": "stdout",
     "output_type": "stream",
     "text": [
      "[3 4]\n"
     ]
    }
   ],
   "source": [
    "print(B)"
   ]
  },
  {
   "cell_type": "code",
   "execution_count": 14,
   "id": "0974d563",
   "metadata": {},
   "outputs": [],
   "source": [
    "#the first thing we can try if you dont know anything about numpy is, use the direct defination\n",
    "#that is, we can multiply the arrays together and sum up the result\n",
    "#let start by creating the variable \"dot\" and initialize that to \"zero\"\n"
   ]
  },
  {
   "cell_type": "code",
   "execution_count": 18,
   "id": "fcf845fe",
   "metadata": {},
   "outputs": [
    {
     "data": {
      "text/plain": [
       "11"
      ]
     },
     "execution_count": 18,
     "metadata": {},
     "output_type": "execute_result"
    }
   ],
   "source": [
    "dot = 0\n",
    "for  e, f in zip(A, B):\n",
    "    dot += e*f\n",
    "dot\n"
   ]
  },
  {
   "cell_type": "code",
   "execution_count": null,
   "id": "78d89d8c",
   "metadata": {},
   "outputs": [],
   "source": []
  }
 ],
 "metadata": {
  "kernelspec": {
   "display_name": "Python 3",
   "language": "python",
   "name": "python3"
  },
  "language_info": {
   "codemirror_mode": {
    "name": "ipython",
    "version": 3
   },
   "file_extension": ".py",
   "mimetype": "text/x-python",
   "name": "python",
   "nbconvert_exporter": "python",
   "pygments_lexer": "ipython3",
   "version": "3.8.8"
  }
 },
 "nbformat": 4,
 "nbformat_minor": 5
}
