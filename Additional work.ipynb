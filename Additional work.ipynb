{
 "cells": [
  {
   "cell_type": "markdown",
   "id": "86922b42",
   "metadata": {},
   "source": [
    "# python from the begining"
   ]
  },
  {
   "cell_type": "markdown",
   "id": "24fd9d58",
   "metadata": {},
   "source": [
    "## There are four main datatypes in python\n",
    "### 1. int = means whole number\n",
    "### 2. string = means characters\n",
    "### 3. float = means decimal\n",
    "### 4. Boolean = mean True or Fals."
   ]
  },
  {
   "cell_type": "markdown",
   "id": "d17722e0",
   "metadata": {},
   "source": [
    "# Arithmetic operetor's:"
   ]
  },
  {
   "cell_type": "markdown",
   "id": "76d0626c",
   "metadata": {},
   "source": [
    "#### Arithemic operetor's: are use to perform arithetic on number(literals or variables)."
   ]
  },
  {
   "cell_type": "markdown",
   "id": "c3f24545",
   "metadata": {},
   "source": [
    "## Examples with Addition operator(calculations)"
   ]
  },
  {
   "cell_type": "code",
   "execution_count": 1,
   "id": "c5339bd0",
   "metadata": {},
   "outputs": [
    {
     "name": "stdout",
     "output_type": "stream",
     "text": [
      "30\n"
     ]
    }
   ],
   "source": [
    "a = 10\n",
    "b = 20\n",
    "c = a+b\n",
    "print(c)"
   ]
  },
  {
   "cell_type": "code",
   "execution_count": 2,
   "id": "3eb74c87",
   "metadata": {},
   "outputs": [
    {
     "name": "stdout",
     "output_type": "stream",
     "text": [
      "1020\n"
     ]
    }
   ],
   "source": [
    "a = '10'\n",
    "b = '20'\n",
    "c = a+b\n",
    "print(c)"
   ]
  },
  {
   "cell_type": "code",
   "execution_count": 3,
   "id": "ce1d9d4f",
   "metadata": {},
   "outputs": [
    {
     "name": "stdout",
     "output_type": "stream",
     "text": [
      "Book\n"
     ]
    }
   ],
   "source": [
    "a = 'Bo'\n",
    "b = 'ok'\n",
    "c = a+b\n",
    "print(c)"
   ]
  },
  {
   "cell_type": "code",
   "execution_count": 1,
   "id": "53ad3c68",
   "metadata": {},
   "outputs": [
    {
     "name": "stdout",
     "output_type": "stream",
     "text": [
      "Foday\n"
     ]
    }
   ],
   "source": [
    "a = 'Fo'\n",
    "b = 'day'\n",
    "c = a+b\n",
    "print(c)"
   ]
  },
  {
   "cell_type": "markdown",
   "id": "8a3072a1",
   "metadata": {},
   "source": [
    "## Examples with Addition operator(using input)"
   ]
  },
  {
   "cell_type": "code",
   "execution_count": 2,
   "id": "fc7628ab",
   "metadata": {},
   "outputs": [
    {
     "name": "stdout",
     "output_type": "stream",
     "text": [
      "Enter a value4\n",
      "Enter b value7\n",
      "The sum of  4 and 7 is 11\n"
     ]
    }
   ],
   "source": [
    "a = int(input(\"Enter a value\"))\n",
    "b = int(input(\"Enter b value\"))\n",
    "c = a+b\n",
    "print(\"The sum of \",a, \"and\",b, \"is\",c);"
   ]
  },
  {
   "cell_type": "code",
   "execution_count": 2,
   "id": "a67f4045",
   "metadata": {},
   "outputs": [
    {
     "name": "stdout",
     "output_type": "stream",
     "text": [
      "Enter x value2\n",
      "Enter y value3\n",
      "The sum of  2 and 3 is 5\n"
     ]
    }
   ],
   "source": [
    "x = int(input(\"Enter x value\"))\n",
    "y = int(input(\"Enter y value\"))\n",
    "z = x+y\n",
    "print(\"The sum of \",x, \"and\",y, \"is\",z);"
   ]
  },
  {
   "cell_type": "markdown",
   "id": "22b9d861",
   "metadata": {},
   "source": [
    "## Examples with Multiplication operator"
   ]
  },
  {
   "cell_type": "code",
   "execution_count": 2,
   "id": "7dbff283",
   "metadata": {},
   "outputs": [
    {
     "name": "stdout",
     "output_type": "stream",
     "text": [
      "300\n"
     ]
    }
   ],
   "source": [
    "x = 30\n",
    "y = 10\n",
    "z = x*y\n",
    "print(z)"
   ]
  },
  {
   "cell_type": "code",
   "execution_count": 5,
   "id": "9ed4700d",
   "metadata": {},
   "outputs": [
    {
     "name": "stdout",
     "output_type": "stream",
     "text": [
      "200\n"
     ]
    }
   ],
   "source": [
    "a = 10\n",
    "b = 20\n",
    "c = a*b\n",
    "print(c)"
   ]
  },
  {
   "cell_type": "markdown",
   "id": "04d19b3a",
   "metadata": {},
   "source": [
    "## Examples with Multiplication operator(using input)"
   ]
  },
  {
   "cell_type": "code",
   "execution_count": 7,
   "id": "d661fa2a",
   "metadata": {},
   "outputs": [
    {
     "name": "stdout",
     "output_type": "stream",
     "text": [
      "Enter a value2\n",
      "Enter b value4\n",
      "The sum of  2 and 4 is 8\n"
     ]
    }
   ],
   "source": [
    "a = int(input(\"Enter a value\"))\n",
    "b = int(input(\"Enter b value\"))\n",
    "c = a*b\n",
    "print(\"The sum of \",a, \"and\",b, \"is\",c);"
   ]
  },
  {
   "cell_type": "code",
   "execution_count": 8,
   "id": "e63fd0f7",
   "metadata": {},
   "outputs": [
    {
     "name": "stdout",
     "output_type": "stream",
     "text": [
      "Enter x value4\n",
      "Enter y value4\n",
      "The sum of  4 and 4 is 16\n"
     ]
    }
   ],
   "source": [
    "x = int(input(\"Enter x value\"))\n",
    "y = int(input(\"Enter y value\"))\n",
    "z = x*y\n",
    "print(\"The sum of \",x, \"and\",y, \"is\",z);"
   ]
  },
  {
   "cell_type": "markdown",
   "id": "6ec345c8",
   "metadata": {},
   "source": [
    "## Examples with Substraction operator"
   ]
  },
  {
   "cell_type": "code",
   "execution_count": 3,
   "id": "485bfa4f",
   "metadata": {},
   "outputs": [
    {
     "name": "stdout",
     "output_type": "stream",
     "text": [
      "30\n"
     ]
    }
   ],
   "source": [
    "a = 50\n",
    "b = 20\n",
    "c = a-b\n",
    "print(c)"
   ]
  },
  {
   "cell_type": "code",
   "execution_count": 4,
   "id": "7ff50f70",
   "metadata": {},
   "outputs": [
    {
     "name": "stdout",
     "output_type": "stream",
     "text": [
      "20\n"
     ]
    }
   ],
   "source": [
    "x = 30\n",
    "y = 10\n",
    "z = x-y\n",
    "print(z)"
   ]
  },
  {
   "cell_type": "markdown",
   "id": "67252585",
   "metadata": {},
   "source": [
    "## Examples with substraction operator(using input)"
   ]
  },
  {
   "cell_type": "code",
   "execution_count": 5,
   "id": "e6ec639b",
   "metadata": {},
   "outputs": [
    {
     "name": "stdout",
     "output_type": "stream",
     "text": [
      "Enter a value20\n",
      "Enter b value10\n",
      "The sum of  20 and 10 is 10\n"
     ]
    }
   ],
   "source": [
    "a = int(input(\"Enter a value\"))\n",
    "b = int(input(\"Enter b value\"))\n",
    "c = a-b\n",
    "print(\"The sum of \",a, \"and\",b, \"is\",c);"
   ]
  },
  {
   "cell_type": "code",
   "execution_count": 6,
   "id": "e9a11809",
   "metadata": {},
   "outputs": [
    {
     "name": "stdout",
     "output_type": "stream",
     "text": [
      "Enter x value20\n",
      "Enter y value5\n",
      "The sum of  20 and 5 is 15\n"
     ]
    }
   ],
   "source": [
    "x = int(input(\"Enter x value\"))\n",
    "y = int(input(\"Enter y value\"))\n",
    "z = x-y\n",
    "print(\"The sum of \",x, \"and\",y, \"is\",z);"
   ]
  },
  {
   "cell_type": "markdown",
   "id": "e3c52792",
   "metadata": {},
   "source": [
    "## Examples with division operator"
   ]
  },
  {
   "cell_type": "code",
   "execution_count": 7,
   "id": "41818da1",
   "metadata": {},
   "outputs": [
    {
     "name": "stdout",
     "output_type": "stream",
     "text": [
      "25.0\n"
     ]
    }
   ],
   "source": [
    "a = 50\n",
    "b = 2\n",
    "c = a/b\n",
    "print(c)"
   ]
  },
  {
   "cell_type": "code",
   "execution_count": 8,
   "id": "aefda590",
   "metadata": {},
   "outputs": [
    {
     "name": "stdout",
     "output_type": "stream",
     "text": [
      "30.0\n"
     ]
    }
   ],
   "source": [
    "x = 300\n",
    "y = 10\n",
    "z = x/y\n",
    "print(z)"
   ]
  },
  {
   "cell_type": "markdown",
   "id": "0036df6c",
   "metadata": {},
   "source": [
    "## Examples with division operator(using input)"
   ]
  },
  {
   "cell_type": "code",
   "execution_count": 9,
   "id": "dc291174",
   "metadata": {},
   "outputs": [
    {
     "name": "stdout",
     "output_type": "stream",
     "text": [
      "Enter a value20\n",
      "Enter b value2\n",
      "The sum of  20 and 2 is 10.0\n"
     ]
    }
   ],
   "source": [
    "a = int(input(\"Enter a value\"))\n",
    "b = int(input(\"Enter b value\"))\n",
    "c = a/b\n",
    "print(\"The sum of \",a, \"and\",b, \"is\",c);"
   ]
  },
  {
   "cell_type": "code",
   "execution_count": 25,
   "id": "1e61759c",
   "metadata": {},
   "outputs": [
    {
     "name": "stdout",
     "output_type": "stream",
     "text": [
      "Enter x value2\n",
      "Enter y value8\n",
      "The sum of  2 and 8 is 0.25\n"
     ]
    }
   ],
   "source": [
    "x = int(input(\"Enter x value\"))\n",
    "y = int(input(\"Enter y value\"))\n",
    "z = x/y\n",
    "print(\"The sum of \",x, \"and\",y, \"is\",z);"
   ]
  },
  {
   "cell_type": "markdown",
   "id": "e44cb40a",
   "metadata": {},
   "source": [
    "## Examples with module operator"
   ]
  },
  {
   "cell_type": "code",
   "execution_count": 11,
   "id": "723647dc",
   "metadata": {},
   "outputs": [
    {
     "name": "stdout",
     "output_type": "stream",
     "text": [
      "0\n"
     ]
    }
   ],
   "source": [
    "a = 50\n",
    "b = 2\n",
    "c = a%b\n",
    "print(c)"
   ]
  },
  {
   "cell_type": "code",
   "execution_count": 12,
   "id": "768284bd",
   "metadata": {},
   "outputs": [
    {
     "name": "stdout",
     "output_type": "stream",
     "text": [
      "6\n"
     ]
    }
   ],
   "source": [
    "x = 30\n",
    "y = 12\n",
    "z = x%y\n",
    "print(z)"
   ]
  },
  {
   "cell_type": "markdown",
   "id": "12b30086",
   "metadata": {},
   "source": [
    "## Examples with module operator(useing input)"
   ]
  },
  {
   "cell_type": "code",
   "execution_count": 13,
   "id": "2a0973ed",
   "metadata": {},
   "outputs": [
    {
     "name": "stdout",
     "output_type": "stream",
     "text": [
      "Enter a value10\n",
      "Enter b value4\n",
      "The sum of  10 and 4 is 2\n"
     ]
    }
   ],
   "source": [
    "a = int(input(\"Enter a value\"))\n",
    "b = int(input(\"Enter b value\"))\n",
    "c = a%b\n",
    "print(\"The sum of \",a, \"and\",b, \"is\",c);"
   ]
  },
  {
   "cell_type": "code",
   "execution_count": 14,
   "id": "64e9d8c2",
   "metadata": {},
   "outputs": [
    {
     "name": "stdout",
     "output_type": "stream",
     "text": [
      "Enter x value10\n",
      "Enter y value3\n",
      "The sum of  10 and 3 is 1\n"
     ]
    }
   ],
   "source": [
    "x = int(input(\"Enter x value\"))\n",
    "y = int(input(\"Enter y value\"))\n",
    "z = x%y\n",
    "print(\"The sum of \",x, \"and\",y, \"is\",z);"
   ]
  },
  {
   "cell_type": "markdown",
   "id": "ea290079",
   "metadata": {},
   "source": [
    "## Examples with exponentiation operator"
   ]
  },
  {
   "cell_type": "code",
   "execution_count": 17,
   "id": "e00c03d9",
   "metadata": {},
   "outputs": [
    {
     "name": "stdout",
     "output_type": "stream",
     "text": [
      "9\n"
     ]
    }
   ],
   "source": [
    "a = 3\n",
    "b = 2\n",
    "c = a**b\n",
    "print(c)"
   ]
  },
  {
   "cell_type": "code",
   "execution_count": 16,
   "id": "de1a2144",
   "metadata": {},
   "outputs": [
    {
     "name": "stdout",
     "output_type": "stream",
     "text": [
      "16\n"
     ]
    }
   ],
   "source": [
    "x = 4\n",
    "y = 2\n",
    "z = x**y\n",
    "print(z)"
   ]
  },
  {
   "cell_type": "markdown",
   "id": "8dc5522f",
   "metadata": {},
   "source": [
    "## Examples with exponentiation operator(using input)"
   ]
  },
  {
   "cell_type": "code",
   "execution_count": 18,
   "id": "ea7089fc",
   "metadata": {},
   "outputs": [
    {
     "name": "stdout",
     "output_type": "stream",
     "text": [
      "Enter a value2\n",
      "Enter b value3\n",
      "The sum of  2 and 3 is 8\n"
     ]
    }
   ],
   "source": [
    "a = int(input(\"Enter a value\"))\n",
    "b = int(input(\"Enter b value\"))\n",
    "c = a**b\n",
    "print(\"The sum of \",a, \"and\",b, \"is\",c);"
   ]
  },
  {
   "cell_type": "code",
   "execution_count": 19,
   "id": "e483bcc6",
   "metadata": {},
   "outputs": [
    {
     "name": "stdout",
     "output_type": "stream",
     "text": [
      "Enter x value3\n",
      "Enter y value7\n",
      "The sum of  3 and 7 is 2187\n"
     ]
    }
   ],
   "source": [
    "x = int(input(\"Enter x value\"))\n",
    "y = int(input(\"Enter y value\"))\n",
    "z = x**y\n",
    "print(\"The sum of \",x, \"and\",y, \"is\",z);"
   ]
  },
  {
   "cell_type": "markdown",
   "id": "6dac4670",
   "metadata": {},
   "source": [
    "## Addition, Multiplication, suDivision, Modulo and Exponentiation(all in one)"
   ]
  },
  {
   "cell_type": "code",
   "execution_count": 20,
   "id": "317894cd",
   "metadata": {},
   "outputs": [
    {
     "name": "stdout",
     "output_type": "stream",
     "text": [
      "9\n"
     ]
    }
   ],
   "source": [
    "print(3+6)\n",
    "print(8-6)\n",
    "print(3*6)\n",
    "print(3+6)\n",
    "print(3+6)"
   ]
  },
  {
   "cell_type": "markdown",
   "id": "c3a82666",
   "metadata": {},
   "source": [
    "## Boolean Expressions"
   ]
  },
  {
   "cell_type": "code",
   "execution_count": 11,
   "id": "3ded7cc1",
   "metadata": {},
   "outputs": [
    {
     "name": "stdout",
     "output_type": "stream",
     "text": [
      "1 True\n",
      "2 False\n",
      "3 True\n",
      "4 False\n",
      "5 True\n",
      "6 True\n",
      "7 False\n",
      "8 True\n",
      "9 False\n"
     ]
    }
   ],
   "source": [
    "a = 6\n",
    "b = 7\n",
    "c = 42\n",
    "print (1, a == 6)\n",
    "print (2, a == 7)\n",
    "print (3, a == 6 and b == 7)\n",
    "print (4, a == 7 and b == 7)\n",
    "print (5, not a == 7 and b == 7)\n",
    "print (6, a == 7 or b == 7)\n",
    "print (7, a == 7 and b == 6)\n",
    "print (8, not(a == 7 and b ==6 ))\n",
    "print (9, not a == 7 and b ==6) "
   ]
  },
  {
   "cell_type": "markdown",
   "id": "9fec5513",
   "metadata": {},
   "source": [
    "# Expression result:\n",
    "### 1. true and true = true\n",
    "### 2. true and false = false\n",
    "### 3. false and true = false\n",
    "### 4. false and false = false"
   ]
  },
  {
   "cell_type": "markdown",
   "id": "367f9a24",
   "metadata": {},
   "source": [
    "# Expression result:\n",
    "### 1. not true = false\n",
    "### 2. not false = true\n"
   ]
  },
  {
   "cell_type": "markdown",
   "id": "5b21a403",
   "metadata": {},
   "source": [
    "# Expression result:\n",
    "### 1. true or true = true\n",
    "### 2. true or false = true\n",
    "### 3. false or true = true\n",
    "### 2. false or false = true\n"
   ]
  },
  {
   "cell_type": "markdown",
   "id": "a8bc95d4",
   "metadata": {},
   "source": [
    "## print function"
   ]
  },
  {
   "cell_type": "markdown",
   "id": "20dc4319",
   "metadata": {},
   "source": [
    "### is function that print the result in the screen"
   ]
  },
  {
   "cell_type": "code",
   "execution_count": 2,
   "id": "6a9d9496",
   "metadata": {},
   "outputs": [
    {
     "name": "stdout",
     "output_type": "stream",
     "text": [
      "welcome to mr foday computer training school\n"
     ]
    }
   ],
   "source": [
    "print('welcome to mr foday computer training school')"
   ]
  },
  {
   "cell_type": "code",
   "execution_count": 3,
   "id": "3f81cc09",
   "metadata": {},
   "outputs": [
    {
     "name": "stdout",
     "output_type": "stream",
     "text": [
      "mr foday was attended at the ahmadiyya muslim secondary school freetown\n"
     ]
    }
   ],
   "source": [
    "a = 'mr foday was attended at the ahmadiyya muslim secondary school freetown'\n",
    "print(a)"
   ]
  },
  {
   "cell_type": "code",
   "execution_count": 5,
   "id": "3c4eb4fe",
   "metadata": {},
   "outputs": [
    {
     "name": "stdout",
     "output_type": "stream",
     "text": [
      "yes\n"
     ]
    }
   ],
   "source": [
    "He_is_mr_foday = True\n",
    "if He_is_mr_foday:\n",
    "    print(\"yes\")\n",
    "else:\n",
    "    print(\"He is not mr foday\")"
   ]
  },
  {
   "cell_type": "markdown",
   "id": "be8d486f",
   "metadata": {},
   "source": [
    "## List: is a type of data like strings and integers that we have seen so far, it is use to collect a group of items of an element."
   ]
  },
  {
   "cell_type": "markdown",
   "id": "4f652d03",
   "metadata": {},
   "source": [
    "# HOW TO DEFIND A LIST (variable x)"
   ]
  },
  {
   "cell_type": "code",
   "execution_count": 17,
   "id": "06e1072a",
   "metadata": {},
   "outputs": [],
   "source": [
    "x = [5,10,15,20,25,30,35,40,45,50,55,60,65,70,75,80,85,90,95,100]\n",
    "\n",
    "#this line means, defind a new list with the element (5 to 100) and asign this list to the variable (x)"
   ]
  },
  {
   "cell_type": "code",
   "execution_count": 18,
   "id": "843aa727",
   "metadata": {},
   "outputs": [
    {
     "name": "stdout",
     "output_type": "stream",
     "text": [
      "[5, 10, 15, 20, 25, 30, 35, 40, 45, 50, 55, 60, 65, 70, 75, 80, 85, 90, 95, 100]\n"
     ]
    }
   ],
   "source": [
    "print(x)"
   ]
  },
  {
   "cell_type": "markdown",
   "id": "a6ef290f",
   "metadata": {},
   "source": [
    "## index position: in list, you can access data using index position, the first index is zero, second is one, third is two and so on\n"
   ]
  },
  {
   "cell_type": "code",
   "execution_count": 19,
   "id": "2e92316c",
   "metadata": {},
   "outputs": [
    {
     "name": "stdout",
     "output_type": "stream",
     "text": [
      "5\n"
     ]
    }
   ],
   "source": [
    "print(x[0])\n",
    "#this means retreved zero index from the list (x) and in python, the first index is zero, second is one, third is two and so on"
   ]
  },
  {
   "cell_type": "code",
   "execution_count": 20,
   "id": "8436d4c8",
   "metadata": {},
   "outputs": [
    {
     "name": "stdout",
     "output_type": "stream",
     "text": [
      "10\n"
     ]
    }
   ],
   "source": [
    "print(x[1])"
   ]
  },
  {
   "cell_type": "code",
   "execution_count": 11,
   "id": "64912eb0",
   "metadata": {},
   "outputs": [
    {
     "data": {
      "text/plain": [
       "15"
      ]
     },
     "execution_count": 11,
     "metadata": {},
     "output_type": "execute_result"
    }
   ],
   "source": [
    "print(x[2])"
   ]
  },
  {
   "cell_type": "code",
   "execution_count": 12,
   "id": "615d28b3",
   "metadata": {},
   "outputs": [
    {
     "data": {
      "text/plain": [
       "20"
      ]
     },
     "execution_count": 12,
     "metadata": {},
     "output_type": "execute_result"
    }
   ],
   "source": [
    "print(x[3])"
   ]
  },
  {
   "cell_type": "code",
   "execution_count": 13,
   "id": "7b4e345e",
   "metadata": {},
   "outputs": [
    {
     "data": {
      "text/plain": [
       "25"
      ]
     },
     "execution_count": 13,
     "metadata": {},
     "output_type": "execute_result"
    }
   ],
   "source": [
    "print(x[4])"
   ]
  },
  {
   "cell_type": "code",
   "execution_count": 14,
   "id": "9caaa528",
   "metadata": {},
   "outputs": [
    {
     "data": {
      "text/plain": [
       "30"
      ]
     },
     "execution_count": 14,
     "metadata": {},
     "output_type": "execute_result"
    }
   ],
   "source": [
    "print(x[5])"
   ]
  },
  {
   "cell_type": "markdown",
   "id": "ab0295a6",
   "metadata": {},
   "source": [
    "## we can print a range of values"
   ]
  },
  {
   "cell_type": "code",
   "execution_count": 23,
   "id": "8b1ee5c0",
   "metadata": {},
   "outputs": [
    {
     "name": "stdout",
     "output_type": "stream",
     "text": [
      "[5, 10]\n"
     ]
    }
   ],
   "source": [
    "print(x[0:2])"
   ]
  },
  {
   "cell_type": "code",
   "execution_count": 17,
   "id": "d97c109f",
   "metadata": {},
   "outputs": [
    {
     "data": {
      "text/plain": [
       "[5, 10, 15]"
      ]
     },
     "execution_count": 17,
     "metadata": {},
     "output_type": "execute_result"
    }
   ],
   "source": [
    "print(x[0:3])"
   ]
  },
  {
   "cell_type": "code",
   "execution_count": 20,
   "id": "440e8519",
   "metadata": {},
   "outputs": [
    {
     "data": {
      "text/plain": [
       "[5, 10, 15, 20]"
      ]
     },
     "execution_count": 20,
     "metadata": {},
     "output_type": "execute_result"
    }
   ],
   "source": [
    "print(x[0:4])"
   ]
  },
  {
   "cell_type": "code",
   "execution_count": 24,
   "id": "7c5a139e",
   "metadata": {},
   "outputs": [
    {
     "name": "stdout",
     "output_type": "stream",
     "text": [
      "[5, 10, 15, 20, 25, 30, 35, 40, 45, 50, 55, 60, 65, 70, 75, 80, 85, 90, 95, 100]\n"
     ]
    }
   ],
   "source": [
    "print(x[0:])"
   ]
  },
  {
   "cell_type": "code",
   "execution_count": 25,
   "id": "1d98a4fd",
   "metadata": {},
   "outputs": [
    {
     "name": "stdout",
     "output_type": "stream",
     "text": [
      "[10, 15, 20, 25, 30, 35, 40, 45, 50, 55, 60, 65, 70, 75, 80, 85, 90, 95, 100]\n"
     ]
    }
   ],
   "source": [
    "print(x[1:])"
   ]
  },
  {
   "cell_type": "code",
   "execution_count": 26,
   "id": "9098b307",
   "metadata": {},
   "outputs": [
    {
     "name": "stdout",
     "output_type": "stream",
     "text": [
      "[15, 20, 25]\n"
     ]
    }
   ],
   "source": [
    "print(x[2:5])"
   ]
  },
  {
   "cell_type": "markdown",
   "id": "fbebfc01",
   "metadata": {},
   "source": [
    "# HOW TO DEFIND A LIST (variable a)"
   ]
  },
  {
   "cell_type": "code",
   "execution_count": 1,
   "id": "a7678c12",
   "metadata": {},
   "outputs": [],
   "source": [
    "a = [3, 10, -1]\n",
    "#this line means, defind a new list with the element (3, 10, -1) and asign this list to the variable (a)"
   ]
  },
  {
   "cell_type": "code",
   "execution_count": 2,
   "id": "9ca1ae6d",
   "metadata": {},
   "outputs": [
    {
     "name": "stdout",
     "output_type": "stream",
     "text": [
      "[3, 10, -1]\n"
     ]
    }
   ],
   "source": [
    "print(a)"
   ]
  },
  {
   "cell_type": "markdown",
   "id": "ff1b20d2",
   "metadata": {},
   "source": [
    "# HOW TO ADD AN ITEM IN THE LIST"
   ]
  },
  {
   "cell_type": "code",
   "execution_count": 3,
   "id": "47e46a5b",
   "metadata": {},
   "outputs": [],
   "source": [
    "a. append(1)\n",
    "#this line means, we add 1 to the list"
   ]
  },
  {
   "cell_type": "code",
   "execution_count": 4,
   "id": "95a20c4b",
   "metadata": {},
   "outputs": [
    {
     "name": "stdout",
     "output_type": "stream",
     "text": [
      "[3, 10, -1, 1]\n"
     ]
    }
   ],
   "source": [
    "print(a)"
   ]
  },
  {
   "cell_type": "code",
   "execution_count": 5,
   "id": "b6980fc2",
   "metadata": {},
   "outputs": [
    {
     "name": "stdout",
     "output_type": "stream",
     "text": [
      "[3, 10, -1, 1, 'hello']\n"
     ]
    }
   ],
   "source": [
    "a.append(\"hello\")\n",
    "print(a)"
   ]
  },
  {
   "cell_type": "code",
   "execution_count": 6,
   "id": "f5a13366",
   "metadata": {},
   "outputs": [
    {
     "name": "stdout",
     "output_type": "stream",
     "text": [
      "[3, 10, -1, 1, 'hello', [1, 2, 3]]\n"
     ]
    }
   ],
   "source": [
    "a.append([1, 2, 3])\n",
    "#we can also add a list to another list\n",
    "#this line means, add this new list to the list (a)\n",
    "print(a)"
   ]
  },
  {
   "cell_type": "markdown",
   "id": "72efe3ac",
   "metadata": {},
   "source": [
    "# HOW TO DELETE THE LAST ITEM IN THE LIST"
   ]
  },
  {
   "cell_type": "code",
   "execution_count": 7,
   "id": "bb7b478e",
   "metadata": {},
   "outputs": [
    {
     "name": "stdout",
     "output_type": "stream",
     "text": [
      "[3, 10, -1, 1, 'hello']\n"
     ]
    }
   ],
   "source": [
    "a.pop()\n",
    "print(a)"
   ]
  },
  {
   "cell_type": "code",
   "execution_count": 8,
   "id": "603c43ce",
   "metadata": {},
   "outputs": [
    {
     "name": "stdout",
     "output_type": "stream",
     "text": [
      "[3, 10, -1, 1]\n"
     ]
    }
   ],
   "source": [
    "a.pop()\n",
    "print(a)"
   ]
  },
  {
   "cell_type": "markdown",
   "id": "82e6c76a",
   "metadata": {},
   "source": [
    "# HOW TO RETRIVED A SPECIFIC ITEM FROM THE LIST"
   ]
  },
  {
   "cell_type": "code",
   "execution_count": 10,
   "id": "87c1fde5",
   "metadata": {},
   "outputs": [
    {
     "name": "stdout",
     "output_type": "stream",
     "text": [
      "3\n"
     ]
    }
   ],
   "source": [
    "print(a[0])\n",
    "#this means retreved zero index from the list (a) and in python, the first index is zero, second is one, third is two and so on\n"
   ]
  },
  {
   "cell_type": "code",
   "execution_count": 11,
   "id": "5b1a0d75",
   "metadata": {},
   "outputs": [
    {
     "name": "stdout",
     "output_type": "stream",
     "text": [
      "1\n"
     ]
    }
   ],
   "source": [
    "print(a[3])"
   ]
  },
  {
   "cell_type": "code",
   "execution_count": 12,
   "id": "0d67db9b",
   "metadata": {},
   "outputs": [
    {
     "name": "stdout",
     "output_type": "stream",
     "text": [
      "-1\n"
     ]
    }
   ],
   "source": [
    "print(a[2])"
   ]
  },
  {
   "cell_type": "markdown",
   "id": "bc5756b9",
   "metadata": {},
   "source": [
    "# HOW TO CHANGE AN ITEM FROM THE LIST"
   ]
  },
  {
   "cell_type": "code",
   "execution_count": 15,
   "id": "7d31a4ce",
   "metadata": {},
   "outputs": [],
   "source": [
    "a[0] = 20"
   ]
  },
  {
   "cell_type": "code",
   "execution_count": 16,
   "id": "1b710d1d",
   "metadata": {},
   "outputs": [
    {
     "name": "stdout",
     "output_type": "stream",
     "text": [
      "[20, 10, -1, 1]\n"
     ]
    }
   ],
   "source": [
    "print(a)"
   ]
  },
  {
   "cell_type": "code",
   "execution_count": 27,
   "id": "843b73ee",
   "metadata": {},
   "outputs": [
    {
     "name": "stdout",
     "output_type": "stream",
     "text": [
      "['banana', 'apple', 'orange']\n"
     ]
    }
   ],
   "source": [
    "c = [\"banana\", \"apple\", \"orange\"]\n",
    "print(c)"
   ]
  },
  {
   "cell_type": "markdown",
   "id": "b74d1605",
   "metadata": {},
   "source": [
    "# HOW TO ENTRE CHANGE AN ITEM"
   ]
  },
  {
   "cell_type": "code",
   "execution_count": 28,
   "id": "379ba66a",
   "metadata": {},
   "outputs": [
    {
     "name": "stdout",
     "output_type": "stream",
     "text": [
      "['orange', 'apple', 'banana']\n"
     ]
    }
   ],
   "source": [
    "temp = c[0]\n",
    "c[0] = c[2]\n",
    "c[2] = temp\n",
    "print(c)"
   ]
  },
  {
   "cell_type": "code",
   "execution_count": 29,
   "id": "03167a4e",
   "metadata": {},
   "outputs": [
    {
     "name": "stdout",
     "output_type": "stream",
     "text": [
      "['orange', 'banana', 'apple']\n"
     ]
    }
   ],
   "source": [
    "temp = c[1]\n",
    "c[1] = c[2]\n",
    "c[2] = temp\n",
    "print(c)"
   ]
  },
  {
   "cell_type": "code",
   "execution_count": 30,
   "id": "a73aae46",
   "metadata": {},
   "outputs": [
    {
     "name": "stdout",
     "output_type": "stream",
     "text": [
      "['apple', 'banana', 'orange']\n"
     ]
    }
   ],
   "source": [
    "temp = c[2]\n",
    "c[2] = c[0]\n",
    "c[0] = temp\n",
    "print(c)"
   ]
  },
  {
   "cell_type": "markdown",
   "id": "91bdf95a",
   "metadata": {},
   "source": [
    "# Dictionary in python: As we know dictionary is a place to search for something."
   ]
  },
  {
   "cell_type": "code",
   "execution_count": 34,
   "id": "4c7cb0a9",
   "metadata": {},
   "outputs": [
    {
     "data": {
      "text/plain": [
       "{1: 'foday', 2: 'abu', 3: 'sorie', 4: 'fatmata'}"
      ]
     },
     "execution_count": 34,
     "metadata": {},
     "output_type": "execute_result"
    }
   ],
   "source": [
    "a = {1:'foday', 2:'abu', 3:'sorie', 4:'fatmata'}\n",
    "a"
   ]
  },
  {
   "cell_type": "code",
   "execution_count": 35,
   "id": "c27d8926",
   "metadata": {},
   "outputs": [
    {
     "data": {
      "text/plain": [
       "'foday'"
      ]
     },
     "execution_count": 35,
     "metadata": {},
     "output_type": "execute_result"
    }
   ],
   "source": [
    "##to access data in the dictionary, we call on the key\n",
    "a[1]"
   ]
  },
  {
   "cell_type": "code",
   "execution_count": 36,
   "id": "8b46fe34",
   "metadata": {},
   "outputs": [
    {
     "data": {
      "text/plain": [
       "'abu'"
      ]
     },
     "execution_count": 36,
     "metadata": {},
     "output_type": "execute_result"
    }
   ],
   "source": [
    "a[2]"
   ]
  },
  {
   "cell_type": "code",
   "execution_count": 37,
   "id": "fa0550dc",
   "metadata": {},
   "outputs": [
    {
     "data": {
      "text/plain": [
       "'sorie'"
      ]
     },
     "execution_count": 37,
     "metadata": {},
     "output_type": "execute_result"
    }
   ],
   "source": [
    "a[3]"
   ]
  },
  {
   "cell_type": "code",
   "execution_count": 38,
   "id": "0c529983",
   "metadata": {},
   "outputs": [
    {
     "data": {
      "text/plain": [
       "'fatmata'"
      ]
     },
     "execution_count": 38,
     "metadata": {},
     "output_type": "execute_result"
    }
   ],
   "source": [
    "a[4]"
   ]
  },
  {
   "cell_type": "code",
   "execution_count": 39,
   "id": "bc5eff0f",
   "metadata": {},
   "outputs": [
    {
     "data": {
      "text/plain": [
       "'foday'"
      ]
     },
     "execution_count": 39,
     "metadata": {},
     "output_type": "execute_result"
    }
   ],
   "source": [
    "a.get(1)"
   ]
  },
  {
   "cell_type": "code",
   "execution_count": 40,
   "id": "595cd17c",
   "metadata": {},
   "outputs": [
    {
     "name": "stdout",
     "output_type": "stream",
     "text": [
      "None\n"
     ]
    }
   ],
   "source": [
    "a.get(5)\n",
    "print(a.get(5))"
   ]
  },
  {
   "cell_type": "code",
   "execution_count": 41,
   "id": "ae5b0699",
   "metadata": {},
   "outputs": [
    {
     "data": {
      "text/plain": [
       "'Not Found'"
      ]
     },
     "execution_count": 41,
     "metadata": {},
     "output_type": "execute_result"
    }
   ],
   "source": [
    "a.get(5,'Not Found')"
   ]
  },
  {
   "cell_type": "markdown",
   "id": "a0d90e7e",
   "metadata": {},
   "source": [
    "# HOW TO MATCH TWO VALUES INTO DICTIONARY"
   ]
  },
  {
   "cell_type": "code",
   "execution_count": 42,
   "id": "d2d418c6",
   "metadata": {},
   "outputs": [
    {
     "data": {
      "text/plain": [
       "{'foday': 'Python', 'abu': 'Java', 'sorie': 'js', 'fatmata': 'Html'}"
      ]
     },
     "execution_count": 42,
     "metadata": {},
     "output_type": "execute_result"
    }
   ],
   "source": [
    "keys = ['foday', 'abu', 'sorie', 'fatmata']\n",
    "values = ['Python','Java','js','Html']\n",
    "a = dict(zip(keys,values))\n",
    "a\n"
   ]
  },
  {
   "cell_type": "code",
   "execution_count": 45,
   "id": "cc229251",
   "metadata": {},
   "outputs": [
    {
     "data": {
      "text/plain": [
       "'Python'"
      ]
     },
     "execution_count": 45,
     "metadata": {},
     "output_type": "execute_result"
    }
   ],
   "source": [
    "a['foday']"
   ]
  },
  {
   "cell_type": "markdown",
   "id": "40cfe3af",
   "metadata": {},
   "source": [
    "# HOW TO ADD A VALUE"
   ]
  },
  {
   "cell_type": "code",
   "execution_count": 46,
   "id": "b883adb4",
   "metadata": {},
   "outputs": [
    {
     "data": {
      "text/plain": [
       "{'foday': 'Python',\n",
       " 'abu': 'Java',\n",
       " 'sorie': 'js',\n",
       " 'fatmata': 'Html',\n",
       " 'sudie': 'cs'}"
      ]
     },
     "execution_count": 46,
     "metadata": {},
     "output_type": "execute_result"
    }
   ],
   "source": [
    "a['sudie'] = 'cs'\n",
    "a"
   ]
  },
  {
   "cell_type": "markdown",
   "id": "a90ce0e6",
   "metadata": {},
   "source": [
    "# HOW TO DELETE DICTIONARY"
   ]
  },
  {
   "cell_type": "code",
   "execution_count": 47,
   "id": "a0b7920a",
   "metadata": {},
   "outputs": [
    {
     "data": {
      "text/plain": [
       "{'foday': 'Python', 'abu': 'Java', 'sorie': 'js', 'fatmata': 'Html'}"
      ]
     },
     "execution_count": 47,
     "metadata": {},
     "output_type": "execute_result"
    }
   ],
   "source": [
    "del a['sudie']\n",
    "a"
   ]
  },
  {
   "cell_type": "markdown",
   "id": "ca3dbb6f",
   "metadata": {},
   "source": [
    "# Conditional statement using in loops statement "
   ]
  },
  {
   "cell_type": "code",
   "execution_count": 26,
   "id": "391139de",
   "metadata": {},
   "outputs": [
    {
     "name": "stdout",
     "output_type": "stream",
     "text": [
      "Lansana\n",
      "Foday\n",
      "Alhanssan\n",
      "Timber\n",
      "Abubakarr\n"
     ]
    }
   ],
   "source": [
    "nums = [\"Lansana\",\"Foday\",\"Alhanssan\",\"Timber\",\"Abubakarr\"]\n",
    "\n",
    "for x in nums:\n",
    "    print(x)"
   ]
  },
  {
   "cell_type": "code",
   "execution_count": 27,
   "id": "281b4d60",
   "metadata": {},
   "outputs": [
    {
     "name": "stdout",
     "output_type": "stream",
     "text": [
      "Cow\n",
      "Goat\n",
      "Sheep\n",
      "Dog\n",
      "Cat\n"
     ]
    }
   ],
   "source": [
    "nums = [\"Cow\",\"Goat\",\"Sheep\",\"Dog\",\"Cat\"]\n",
    "\n",
    "for x in nums:\n",
    "    print(x)"
   ]
  },
  {
   "cell_type": "code",
   "execution_count": 28,
   "id": "0f14dd03",
   "metadata": {},
   "outputs": [
    {
     "name": "stdout",
     "output_type": "stream",
     "text": [
      "Book\n",
      "Pen\n",
      "Table\n",
      "Desk\n",
      "Eraser\n"
     ]
    }
   ],
   "source": [
    "nums = [\"Book\",\"Pen\",\"Table\",\"Desk\",\"Eraser\"]\n",
    "\n",
    "for x in nums:\n",
    "    print(x)"
   ]
  },
  {
   "cell_type": "markdown",
   "id": "cdf22775",
   "metadata": {},
   "source": [
    "# Conditional statement using in loops statement "
   ]
  },
  {
   "cell_type": "code",
   "execution_count": 29,
   "id": "91649ae0",
   "metadata": {},
   "outputs": [
    {
     "name": "stdout",
     "output_type": "stream",
     "text": [
      "2 x 1 = 2\n",
      "2 x 2 = 4\n",
      "2 x 3 = 6\n",
      "2 x 4 = 8\n",
      "2 x 5 = 10\n",
      "2 x 6 = 12\n",
      "2 x 7 = 14\n",
      "2 x 8 = 16\n",
      "2 x 9 = 18\n",
      "2 x 10 = 20\n",
      "2 x 11 = 22\n",
      "2 x 12 = 24\n"
     ]
    }
   ],
   "source": [
    "x = 1\n",
    "y = 2\n",
    "\n",
    "while x <= 12:\n",
    "    print(str(y) + \" x \" + str(x) + \" = \" + str(y*x))\n",
    "    x += 1"
   ]
  },
  {
   "cell_type": "code",
   "execution_count": 30,
   "id": "75211e42",
   "metadata": {},
   "outputs": [
    {
     "name": "stdout",
     "output_type": "stream",
     "text": [
      "3 x 1 = 3\n",
      "3 x 2 = 6\n",
      "3 x 3 = 9\n",
      "3 x 4 = 12\n",
      "3 x 5 = 15\n",
      "3 x 6 = 18\n",
      "3 x 7 = 21\n",
      "3 x 8 = 24\n",
      "3 x 9 = 27\n",
      "3 x 10 = 30\n",
      "3 x 11 = 33\n",
      "3 x 12 = 36\n"
     ]
    }
   ],
   "source": [
    "x = 1\n",
    "y = 3\n",
    "\n",
    "while x <= 12:\n",
    "    print(str(y) + \" x \" + str(x) + \" = \" + str(y*x))\n",
    "    x += 1"
   ]
  },
  {
   "cell_type": "code",
   "execution_count": 1,
   "id": "02e70b4f",
   "metadata": {},
   "outputs": [
    {
     "name": "stdout",
     "output_type": "stream",
     "text": [
      "4 x 1 = 4\n",
      "4 x 2 = 8\n",
      "4 x 3 = 12\n",
      "4 x 4 = 16\n",
      "4 x 5 = 20\n",
      "4 x 6 = 24\n",
      "4 x 7 = 28\n",
      "4 x 8 = 32\n",
      "4 x 9 = 36\n",
      "4 x 10 = 40\n",
      "4 x 11 = 44\n",
      "4 x 12 = 48\n"
     ]
    }
   ],
   "source": [
    "x = 1\n",
    "y = 4\n",
    "\n",
    "while x <= 12:\n",
    "    print(str(y) + \" x \" + str(x) + \" = \" + str(y*x))\n",
    "    x += 1"
   ]
  },
  {
   "cell_type": "code",
   "execution_count": 1,
   "id": "a62324c7",
   "metadata": {},
   "outputs": [
    {
     "name": "stdout",
     "output_type": "stream",
     "text": [
      "5 x 1 = 5\n",
      "5 x 2 = 10\n",
      "5 x 3 = 15\n",
      "5 x 4 = 20\n",
      "5 x 5 = 25\n",
      "5 x 6 = 30\n",
      "5 x 7 = 35\n",
      "5 x 8 = 40\n",
      "5 x 9 = 45\n",
      "5 x 10 = 50\n",
      "5 x 11 = 55\n",
      "5 x 12 = 60\n"
     ]
    }
   ],
   "source": [
    "x = 1\n",
    "y = 5\n",
    "\n",
    "while x <= 12:\n",
    "    print(str(y) + \" x \" + str(x) + \" = \" + str(y*x))\n",
    "    x += 1"
   ]
  },
  {
   "cell_type": "code",
   "execution_count": 2,
   "id": "7dde48cb",
   "metadata": {},
   "outputs": [
    {
     "name": "stdout",
     "output_type": "stream",
     "text": [
      "6 x 1 = 6\n",
      "6 x 2 = 12\n",
      "6 x 3 = 18\n",
      "6 x 4 = 24\n",
      "6 x 5 = 30\n",
      "6 x 6 = 36\n",
      "6 x 7 = 42\n",
      "6 x 8 = 48\n",
      "6 x 9 = 54\n",
      "6 x 10 = 60\n",
      "6 x 11 = 66\n",
      "6 x 12 = 72\n"
     ]
    }
   ],
   "source": [
    "x = 1\n",
    "y = 6\n",
    "\n",
    "while x <= 12:\n",
    "    print(str(y) + \" x \" + str(x) + \" = \" + str(y*x))\n",
    "    x += 1"
   ]
  },
  {
   "cell_type": "code",
   "execution_count": 3,
   "id": "eef4b7a0",
   "metadata": {},
   "outputs": [
    {
     "name": "stdout",
     "output_type": "stream",
     "text": [
      "7 x 1 = 7\n",
      "7 x 2 = 14\n",
      "7 x 3 = 21\n",
      "7 x 4 = 28\n",
      "7 x 5 = 35\n",
      "7 x 6 = 42\n",
      "7 x 7 = 49\n",
      "7 x 8 = 56\n",
      "7 x 9 = 63\n",
      "7 x 10 = 70\n",
      "7 x 11 = 77\n",
      "7 x 12 = 84\n"
     ]
    }
   ],
   "source": [
    "x = 1\n",
    "y = 7\n",
    "\n",
    "while x <= 12:\n",
    "    print(str(y) + \" x \" + str(x) + \" = \" + str(y*x))\n",
    "    x += 1"
   ]
  },
  {
   "cell_type": "code",
   "execution_count": 4,
   "id": "ba86c567",
   "metadata": {},
   "outputs": [
    {
     "name": "stdout",
     "output_type": "stream",
     "text": [
      "8 x 1 = 8\n",
      "8 x 2 = 16\n",
      "8 x 3 = 24\n",
      "8 x 4 = 32\n",
      "8 x 5 = 40\n",
      "8 x 6 = 48\n",
      "8 x 7 = 56\n",
      "8 x 8 = 64\n",
      "8 x 9 = 72\n",
      "8 x 10 = 80\n",
      "8 x 11 = 88\n",
      "8 x 12 = 96\n"
     ]
    }
   ],
   "source": [
    "x = 1\n",
    "y = 8\n",
    "\n",
    "while x <= 12:\n",
    "    print(str(y) + \" x \" + str(x) + \" = \" + str(y*x))\n",
    "    x += 1"
   ]
  },
  {
   "cell_type": "code",
   "execution_count": 5,
   "id": "8a88176e",
   "metadata": {},
   "outputs": [
    {
     "name": "stdout",
     "output_type": "stream",
     "text": [
      "9 x 1 = 9\n",
      "9 x 2 = 18\n",
      "9 x 3 = 27\n",
      "9 x 4 = 36\n",
      "9 x 5 = 45\n",
      "9 x 6 = 54\n",
      "9 x 7 = 63\n",
      "9 x 8 = 72\n",
      "9 x 9 = 81\n",
      "9 x 10 = 90\n",
      "9 x 11 = 99\n",
      "9 x 12 = 108\n"
     ]
    }
   ],
   "source": [
    "x = 1\n",
    "y = 9\n",
    "\n",
    "while x <= 12:\n",
    "    print(str(y) + \" x \" + str(x) + \" = \" + str(y*x))\n",
    "    x += 1"
   ]
  },
  {
   "cell_type": "code",
   "execution_count": 6,
   "id": "0d6a4138",
   "metadata": {},
   "outputs": [
    {
     "name": "stdout",
     "output_type": "stream",
     "text": [
      "10 x 1 = 10\n",
      "10 x 2 = 20\n",
      "10 x 3 = 30\n",
      "10 x 4 = 40\n",
      "10 x 5 = 50\n",
      "10 x 6 = 60\n",
      "10 x 7 = 70\n",
      "10 x 8 = 80\n",
      "10 x 9 = 90\n",
      "10 x 10 = 100\n",
      "10 x 11 = 110\n",
      "10 x 12 = 120\n"
     ]
    }
   ],
   "source": [
    "x = 1\n",
    "y = 10\n",
    "\n",
    "while x <= 12:\n",
    "    print(str(y) + \" x \" + str(x) + \" = \" + str(y*x))\n",
    "    x += 1"
   ]
  },
  {
   "cell_type": "code",
   "execution_count": 7,
   "id": "12448749",
   "metadata": {},
   "outputs": [
    {
     "name": "stdout",
     "output_type": "stream",
     "text": [
      "11 x 1 = 11\n",
      "11 x 2 = 22\n",
      "11 x 3 = 33\n",
      "11 x 4 = 44\n",
      "11 x 5 = 55\n",
      "11 x 6 = 66\n",
      "11 x 7 = 77\n",
      "11 x 8 = 88\n",
      "11 x 9 = 99\n",
      "11 x 10 = 110\n",
      "11 x 11 = 121\n",
      "11 x 12 = 132\n"
     ]
    }
   ],
   "source": [
    "x = 1\n",
    "y = 11\n",
    "\n",
    "while x <= 12:\n",
    "    print(str(y) + \" x \" + str(x) + \" = \" + str(y*x))\n",
    "    x += 1"
   ]
  },
  {
   "cell_type": "code",
   "execution_count": 8,
   "id": "85d934cf",
   "metadata": {},
   "outputs": [
    {
     "name": "stdout",
     "output_type": "stream",
     "text": [
      "12 x 1 = 12\n",
      "12 x 2 = 24\n",
      "12 x 3 = 36\n",
      "12 x 4 = 48\n",
      "12 x 5 = 60\n",
      "12 x 6 = 72\n",
      "12 x 7 = 84\n",
      "12 x 8 = 96\n",
      "12 x 9 = 108\n",
      "12 x 10 = 120\n",
      "12 x 11 = 132\n",
      "12 x 12 = 144\n"
     ]
    }
   ],
   "source": [
    "x = 1\n",
    "y = 12\n",
    "\n",
    "while x <= 12:\n",
    "    print(str(y) + \" x \" + str(x) + \" = \" + str(y*x))\n",
    "    x += 1"
   ]
  },
  {
   "cell_type": "markdown",
   "id": "eb67f3c0",
   "metadata": {},
   "source": [
    "# Conditional statement using if statement "
   ]
  },
  {
   "cell_type": "code",
   "execution_count": 2,
   "id": "52ba635e",
   "metadata": {},
   "outputs": [
    {
     "name": "stdout",
     "output_type": "stream",
     "text": [
      "Enter year of birth:12\n",
      "You are above age requirement.\n",
      "You have dued retirement\n"
     ]
    }
   ],
   "source": [
    "yob = int(input(\"Enter year of birth:\"))\n",
    "age = 2021 - yob\n",
    "age_limit = 60\n",
    "if age >= age_limit:\n",
    "    print(\"You are above age requirement.\\nYou have dued retirement\")"
   ]
  },
  {
   "cell_type": "markdown",
   "id": "9986a99c",
   "metadata": {},
   "source": [
    "# Conditional statement using if and else statement "
   ]
  },
  {
   "cell_type": "code",
   "execution_count": 4,
   "id": "075a1410",
   "metadata": {},
   "outputs": [
    {
     "name": "stdout",
     "output_type": "stream",
     "text": [
      "Enter transport:\n",
      "10000\n",
      "Onboard\n"
     ]
    }
   ],
   "source": [
    "transport = float(input(\"Enter transport:\\n\"))\n",
    "\n",
    "if transport>=10000:\n",
    "    print(\"Onboard\")\n",
    "else:\n",
    "    print(\"Trek\")"
   ]
  },
  {
   "cell_type": "code",
   "execution_count": 5,
   "id": "208ff5e5",
   "metadata": {},
   "outputs": [
    {
     "name": "stdout",
     "output_type": "stream",
     "text": [
      "Enter transport:\n",
      "12\n",
      "Trek\n"
     ]
    }
   ],
   "source": [
    "transport = float(input(\"Enter transport:\\n\"))\n",
    "\n",
    "if transport>=10000:\n",
    "    print(\"Onboard\")\n",
    "else:\n",
    "    print(\"Trek\")\n",
    "    "
   ]
  },
  {
   "cell_type": "code",
   "execution_count": 6,
   "id": "25862507",
   "metadata": {},
   "outputs": [
    {
     "name": "stdout",
     "output_type": "stream",
     "text": [
      "Enter username:foday\n",
      "Enter Password:077871088\n",
      "Incorrect username or password\n"
     ]
    }
   ],
   "source": [
    "username = input(\"Enter username:\")\n",
    "password=input(\"Enter Password:\")\n",
    "\n",
    "if username==\"user\" and password==\"12345\":\n",
    "    print(\"Welcome \"+username)\n",
    "else:\n",
    "    print(\"Incorrect username or password\")"
   ]
  },
  {
   "cell_type": "code",
   "execution_count": 7,
   "id": "1e16d2df",
   "metadata": {},
   "outputs": [
    {
     "name": "stdout",
     "output_type": "stream",
     "text": [
      "Enter and integer:\n",
      "13\n",
      "13 is neither divisible by 2 nor 3\n"
     ]
    }
   ],
   "source": [
    "number = int(input(\"Enter and integer:\\n\"))\n",
    "\n",
    "if number%2 == 0 or number%3 == 0:\n",
    "    print(str(number) + \" is either divisible by 2 or 3\")\n",
    "else:\n",
    "    print(str(number) + \" is neither divisible by 2 nor 3\")"
   ]
  },
  {
   "cell_type": "markdown",
   "id": "80162d1c",
   "metadata": {},
   "source": [
    "# Conditional statement using if,elif and else  else statement "
   ]
  },
  {
   "cell_type": "code",
   "execution_count": 8,
   "id": "b951708d",
   "metadata": {},
   "outputs": [
    {
     "name": "stdout",
     "output_type": "stream",
     "text": [
      "Enter and integer:\n",
      "23\n",
      "23 is neither divisible by 2 nor 3\n"
     ]
    }
   ],
   "source": [
    "number = int(input(\"Enter and integer:\\n\"))\n",
    "\n",
    "if number%2 == 0:\n",
    "    print(str(number) + \" is divisible by 2\")\n",
    "elif number%3 == 0:\n",
    "    print(str(number) + \" is divisible by 3\")\n",
    "else:\n",
    "    print(str(number) + \" is neither divisible by 2 nor 3\")\n",
    "    "
   ]
  },
  {
   "cell_type": "markdown",
   "id": "244b1daf",
   "metadata": {},
   "source": [
    "# Numpy and array"
   ]
  },
  {
   "cell_type": "code",
   "execution_count": 3,
   "id": "f1223b02",
   "metadata": {},
   "outputs": [
    {
     "name": "stdout",
     "output_type": "stream",
     "text": [
      "1.20.1\n"
     ]
    }
   ],
   "source": [
    "import numpy as np\n",
    "print(np.__version__)"
   ]
  },
  {
   "cell_type": "markdown",
   "id": "a0fc772d",
   "metadata": {},
   "source": [
    "### let started from the basics"
   ]
  },
  {
   "cell_type": "code",
   "execution_count": 2,
   "id": "3b265de9",
   "metadata": {},
   "outputs": [
    {
     "name": "stdout",
     "output_type": "stream",
     "text": [
      "[1 2 3]\n"
     ]
    }
   ],
   "source": [
    "#one dimensional array\n",
    "a = np.array([1,2,3])\n",
    "print(a)"
   ]
  },
  {
   "cell_type": "code",
   "execution_count": 4,
   "id": "7374daf7",
   "metadata": {},
   "outputs": [
    {
     "name": "stdout",
     "output_type": "stream",
     "text": [
      "[[9. 8. 7.]\n",
      " [6. 5. 4.]]\n"
     ]
    }
   ],
   "source": [
    " #two dimensional array\n",
    "b = np.array([[9.0,8.0,7.0],[6.0,5.0,4.0]])\n",
    "print(b)"
   ]
  },
  {
   "cell_type": "code",
   "execution_count": 10,
   "id": "8da54f5a",
   "metadata": {},
   "outputs": [
    {
     "name": "stdout",
     "output_type": "stream",
     "text": [
      "[[9. 8. 7.]\n",
      " [6. 5. 4.]\n",
      " [3. 2. 1.]]\n"
     ]
    }
   ],
   "source": [
    " #three dimensional array\n",
    "c = np.array([[9.0,8.0,7.0],[6.0,5.0,4.0],[3.0,2.0,1.0]])\n",
    "print(c)"
   ]
  },
  {
   "cell_type": "code",
   "execution_count": 6,
   "id": "a96d29c4",
   "metadata": {},
   "outputs": [
    {
     "name": "stdout",
     "output_type": "stream",
     "text": [
      "[[12. 11. 10.]\n",
      " [ 9.  8.  7.]\n",
      " [ 6.  5.  4.]\n",
      " [ 3.  2.  1.]]\n"
     ]
    }
   ],
   "source": [
    " #four dimensional array\n",
    "d = np.array([[12.0,11.0,10.0],[9.0,8.0,7.0],[6.0,5.0,4.0],[3.0,2.0,1.0]])\n",
    "print(d)"
   ]
  },
  {
   "cell_type": "code",
   "execution_count": 12,
   "id": "50471257",
   "metadata": {},
   "outputs": [
    {
     "data": {
      "text/plain": [
       "1"
      ]
     },
     "execution_count": 12,
     "metadata": {},
     "output_type": "execute_result"
    }
   ],
   "source": [
    "#Get Dimension\n",
    "a.ndim"
   ]
  },
  {
   "cell_type": "code",
   "execution_count": 13,
   "id": "ed3a2aff",
   "metadata": {},
   "outputs": [
    {
     "data": {
      "text/plain": [
       "(3,)"
      ]
     },
     "execution_count": 13,
     "metadata": {},
     "output_type": "execute_result"
    }
   ],
   "source": [
    "#Get shape\n",
    "a.shape"
   ]
  },
  {
   "cell_type": "code",
   "execution_count": 14,
   "id": "cd753439",
   "metadata": {},
   "outputs": [
    {
     "data": {
      "text/plain": [
       "(2, 3)"
      ]
     },
     "execution_count": 14,
     "metadata": {},
     "output_type": "execute_result"
    }
   ],
   "source": [
    "b.shape"
   ]
  },
  {
   "cell_type": "code",
   "execution_count": 15,
   "id": "d68d6bf4",
   "metadata": {},
   "outputs": [
    {
     "data": {
      "text/plain": [
       "(3, 3)"
      ]
     },
     "execution_count": 15,
     "metadata": {},
     "output_type": "execute_result"
    }
   ],
   "source": [
    "c.shape"
   ]
  },
  {
   "cell_type": "code",
   "execution_count": 16,
   "id": "16432966",
   "metadata": {},
   "outputs": [
    {
     "data": {
      "text/plain": [
       "dtype('int32')"
      ]
     },
     "execution_count": 16,
     "metadata": {},
     "output_type": "execute_result"
    }
   ],
   "source": [
    "#Get type\n",
    "a.dtype"
   ]
  },
  {
   "cell_type": "code",
   "execution_count": 17,
   "id": "59f3cd47",
   "metadata": {},
   "outputs": [
    {
     "data": {
      "text/plain": [
       "4"
      ]
     },
     "execution_count": 17,
     "metadata": {},
     "output_type": "execute_result"
    }
   ],
   "source": [
    "#Get size\n",
    "a.itemsize"
   ]
  },
  {
   "cell_type": "code",
   "execution_count": 18,
   "id": "4f4d9216",
   "metadata": {},
   "outputs": [
    {
     "data": {
      "text/plain": [
       "3"
      ]
     },
     "execution_count": 18,
     "metadata": {},
     "output_type": "execute_result"
    }
   ],
   "source": [
    "#Get size\n",
    "a.size"
   ]
  },
  {
   "cell_type": "code",
   "execution_count": 20,
   "id": "8fad75af",
   "metadata": {},
   "outputs": [
    {
     "data": {
      "text/plain": [
       "12"
      ]
     },
     "execution_count": 20,
     "metadata": {},
     "output_type": "execute_result"
    }
   ],
   "source": [
    "#Get total size\n",
    "a.size * a.itemsize"
   ]
  },
  {
   "cell_type": "code",
   "execution_count": 21,
   "id": "f16a9ed8",
   "metadata": {},
   "outputs": [
    {
     "data": {
      "text/plain": [
       "12"
      ]
     },
     "execution_count": 21,
     "metadata": {},
     "output_type": "execute_result"
    }
   ],
   "source": [
    "#or total size\n",
    "a.nbytes"
   ]
  },
  {
   "cell_type": "markdown",
   "id": "146a6a86",
   "metadata": {},
   "source": [
    "# Accessing / changing specific elements, rows, columns, etct"
   ]
  },
  {
   "cell_type": "code",
   "execution_count": 22,
   "id": "df268953",
   "metadata": {},
   "outputs": [
    {
     "name": "stdout",
     "output_type": "stream",
     "text": [
      "[[ 1  2  3  4  5  6  7]\n",
      " [ 8  9 10 11 12 13 14]]\n"
     ]
    }
   ],
   "source": [
    "x = np. array([[1,2,3,4,5,6,7,],[8,9,10,11,12,13,14]])\n",
    "print(x)"
   ]
  },
  {
   "cell_type": "code",
   "execution_count": 26,
   "id": "ae06ee88",
   "metadata": {},
   "outputs": [
    {
     "data": {
      "text/plain": [
       "12"
      ]
     },
     "execution_count": 26,
     "metadata": {},
     "output_type": "execute_result"
    }
   ],
   "source": [
    "#Geting a specific element in row and column\n",
    "x[1,4]"
   ]
  },
  {
   "cell_type": "code",
   "execution_count": 27,
   "id": "295359ca",
   "metadata": {},
   "outputs": [
    {
     "data": {
      "text/plain": [
       "11"
      ]
     },
     "execution_count": 27,
     "metadata": {},
     "output_type": "execute_result"
    }
   ],
   "source": [
    "x[1,-4]"
   ]
  },
  {
   "cell_type": "code",
   "execution_count": 28,
   "id": "e6ad31a0",
   "metadata": {},
   "outputs": [
    {
     "data": {
      "text/plain": [
       "array([1, 2, 3, 4, 5, 6, 7])"
      ]
     },
     "execution_count": 28,
     "metadata": {},
     "output_type": "execute_result"
    }
   ],
   "source": [
    "#Get a specific row\n",
    "x[0,:]"
   ]
  },
  {
   "cell_type": "code",
   "execution_count": 29,
   "id": "bd495dc1",
   "metadata": {},
   "outputs": [
    {
     "data": {
      "text/plain": [
       "array([ 3, 10])"
      ]
     },
     "execution_count": 29,
     "metadata": {},
     "output_type": "execute_result"
    }
   ],
   "source": [
    "#Get a specific column\n",
    "x[:,2]"
   ]
  },
  {
   "cell_type": "markdown",
   "id": "2b789b58",
   "metadata": {},
   "source": [
    "# CREATING ARRAYS"
   ]
  },
  {
   "cell_type": "code",
   "execution_count": 4,
   "id": "593a5ca2",
   "metadata": {},
   "outputs": [
    {
     "data": {
      "text/plain": [
       "array([0., 0., 0., 0.])"
      ]
     },
     "execution_count": 4,
     "metadata": {},
     "output_type": "execute_result"
    }
   ],
   "source": [
    "np.zeros(4)\n"
   ]
  },
  {
   "cell_type": "code",
   "execution_count": 5,
   "id": "ad1e2558",
   "metadata": {},
   "outputs": [
    {
     "data": {
      "text/plain": [
       "(4,)"
      ]
     },
     "execution_count": 5,
     "metadata": {},
     "output_type": "execute_result"
    }
   ],
   "source": [
    "np.zeros(4).shape"
   ]
  },
  {
   "cell_type": "code",
   "execution_count": 8,
   "id": "63845fcb",
   "metadata": {},
   "outputs": [
    {
     "data": {
      "text/plain": [
       "array([[0., 0., 0., 0., 0.],\n",
       "       [0., 0., 0., 0., 0.],\n",
       "       [0., 0., 0., 0., 0.],\n",
       "       [0., 0., 0., 0., 0.]])"
      ]
     },
     "execution_count": 8,
     "metadata": {},
     "output_type": "execute_result"
    }
   ],
   "source": [
    "np.zeros((4,5))"
   ]
  },
  {
   "cell_type": "code",
   "execution_count": 9,
   "id": "7f213beb",
   "metadata": {},
   "outputs": [
    {
     "data": {
      "text/plain": [
       "(4, 5)"
      ]
     },
     "execution_count": 9,
     "metadata": {},
     "output_type": "execute_result"
    }
   ],
   "source": [
    "np.zeros((4,5)).shape"
   ]
  },
  {
   "cell_type": "code",
   "execution_count": 17,
   "id": "21ece46c",
   "metadata": {},
   "outputs": [
    {
     "data": {
      "text/plain": [
       "array([0, 1, 2, 3, 4])"
      ]
     },
     "execution_count": 17,
     "metadata": {},
     "output_type": "execute_result"
    }
   ],
   "source": [
    "np.arange(0,5)"
   ]
  },
  {
   "cell_type": "code",
   "execution_count": 18,
   "id": "f1bddd63",
   "metadata": {},
   "outputs": [
    {
     "data": {
      "text/plain": [
       "array([0. , 0.5, 1. , 1.5, 2. , 2.5, 3. , 3.5, 4. , 4.5])"
      ]
     },
     "execution_count": 18,
     "metadata": {},
     "output_type": "execute_result"
    }
   ],
   "source": [
    "np.arange(0,5,0.5)"
   ]
  },
  {
   "cell_type": "markdown",
   "id": "a9fbff92",
   "metadata": {},
   "source": [
    "# RESHAPING AN ARRAY"
   ]
  },
  {
   "cell_type": "code",
   "execution_count": 20,
   "id": "dc553594",
   "metadata": {},
   "outputs": [
    {
     "name": "stdout",
     "output_type": "stream",
     "text": [
      "[ 0  1  2  3  4  5  6  7  8  9 10 11 12 13 14 15 16 17]\n"
     ]
    }
   ],
   "source": [
    "g = np.arange(18)\n",
    "print(g)"
   ]
  },
  {
   "cell_type": "code",
   "execution_count": 21,
   "id": "e6617c7a",
   "metadata": {},
   "outputs": [
    {
     "name": "stdout",
     "output_type": "stream",
     "text": [
      "[[ 0  1  2]\n",
      " [ 3  4  5]\n",
      " [ 6  7  8]\n",
      " [ 9 10 11]\n",
      " [12 13 14]\n",
      " [15 16 17]]\n"
     ]
    }
   ],
   "source": [
    "g_new = g.reshape(6,3)\n",
    "print(g_new)"
   ]
  },
  {
   "cell_type": "code",
   "execution_count": 22,
   "id": "107f7e8e",
   "metadata": {},
   "outputs": [
    {
     "name": "stdout",
     "output_type": "stream",
     "text": [
      "[[  0   1   2]\n",
      " [  3   4 100]\n",
      " [  6   7   8]\n",
      " [  9  10  11]\n",
      " [ 12  13  14]\n",
      " [ 15  16  17]]\n"
     ]
    }
   ],
   "source": [
    "g_new[1,2] = 100\n",
    "print(g_new)"
   ]
  },
  {
   "cell_type": "markdown",
   "id": "a1abdea8",
   "metadata": {},
   "source": [
    "# RESHAPING AN ARRAY IN PROFESSIONAL WAY"
   ]
  },
  {
   "cell_type": "code",
   "execution_count": 23,
   "id": "1949c6b6",
   "metadata": {},
   "outputs": [
    {
     "name": "stdout",
     "output_type": "stream",
     "text": [
      "[ 0  1  2  3  4  5  6  7  8  9 10 11 12 13 14 15 16 17]\n"
     ]
    }
   ],
   "source": [
    "g = np.arange(18)\n",
    "print(g)"
   ]
  },
  {
   "cell_type": "code",
   "execution_count": 24,
   "id": "7c9711a1",
   "metadata": {},
   "outputs": [
    {
     "name": "stdout",
     "output_type": "stream",
     "text": [
      "[[ 0  1  2]\n",
      " [ 3  4  5]\n",
      " [ 6  7  8]\n",
      " [ 9 10 11]\n",
      " [12 13 14]\n",
      " [15 16 17]]\n"
     ]
    }
   ],
   "source": [
    "g_new2 = g.reshape(-1,3)\n",
    "print(g_new2)"
   ]
  },
  {
   "cell_type": "markdown",
   "id": "bbf71057",
   "metadata": {},
   "source": [
    "# Norm"
   ]
  },
  {
   "cell_type": "markdown",
   "id": "5ff12ad7",
   "metadata": {},
   "source": [
    "### how to find a Norm"
   ]
  },
  {
   "cell_type": "code",
   "execution_count": 32,
   "id": "8b99a0cb",
   "metadata": {},
   "outputs": [
    {
     "data": {
      "text/plain": [
       "5.0"
      ]
     },
     "execution_count": 32,
     "metadata": {},
     "output_type": "execute_result"
    }
   ],
   "source": [
    "x = np.array ([3,4])\n",
    "from numpy import linalg\n",
    "linalg.norm(x)"
   ]
  },
  {
   "cell_type": "markdown",
   "id": "4251d964",
   "metadata": {},
   "source": [
    "# MATRIX MULTIPLICATION"
   ]
  },
  {
   "cell_type": "code",
   "execution_count": 33,
   "id": "fe1880e4",
   "metadata": {},
   "outputs": [
    {
     "name": "stdout",
     "output_type": "stream",
     "text": [
      "[[ 0  1  2  3]\n",
      " [ 4  5  6  7]\n",
      " [ 8  9 10 11]]\n"
     ]
    }
   ],
   "source": [
    "A = np.arange(0,12).reshape(3,4)\n",
    "print(A)"
   ]
  },
  {
   "cell_type": "code",
   "execution_count": 34,
   "id": "a10a9649",
   "metadata": {},
   "outputs": [
    {
     "name": "stdout",
     "output_type": "stream",
     "text": [
      "[[1.]\n",
      " [1.]\n",
      " [1.]\n",
      " [1.]]\n"
     ]
    }
   ],
   "source": [
    "B = np.ones((4,1))\n",
    "print(B)"
   ]
  },
  {
   "cell_type": "code",
   "execution_count": 35,
   "id": "1712766f",
   "metadata": {},
   "outputs": [
    {
     "data": {
      "text/plain": [
       "array([[ 6.],\n",
       "       [22.],\n",
       "       [38.]])"
      ]
     },
     "execution_count": 35,
     "metadata": {},
     "output_type": "execute_result"
    }
   ],
   "source": [
    "np.matmul(A,B)"
   ]
  },
  {
   "cell_type": "code",
   "execution_count": null,
   "id": "d01c1f96",
   "metadata": {},
   "outputs": [],
   "source": []
  }
 ],
 "metadata": {
  "kernelspec": {
   "display_name": "Python 3",
   "language": "python",
   "name": "python3"
  },
  "language_info": {
   "codemirror_mode": {
    "name": "ipython",
    "version": 3
   },
   "file_extension": ".py",
   "mimetype": "text/x-python",
   "name": "python",
   "nbconvert_exporter": "python",
   "pygments_lexer": "ipython3",
   "version": "3.8.8"
  }
 },
 "nbformat": 4,
 "nbformat_minor": 5
}
